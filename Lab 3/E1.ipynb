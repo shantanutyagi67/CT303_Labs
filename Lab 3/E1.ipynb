{
 "cells": [
  {
   "cell_type": "markdown",
   "metadata": {},
   "source": [
    "# Lab 3 - Group E1"
   ]
  },
  {
   "cell_type": "markdown",
   "metadata": {},
   "source": [
    "## Question 1"
   ]
  },
  {
   "cell_type": "code",
   "execution_count": null,
   "metadata": {},
   "outputs": [],
   "source": []
  },
  {
   "cell_type": "markdown",
   "metadata": {},
   "source": [
    "## Question 2"
   ]
  },
  {
   "cell_type": "code",
   "execution_count": 90,
   "metadata": {},
   "outputs": [
    {
     "name": "stdout",
     "output_type": "stream",
     "text": [
      "\n",
      "Entered Mean vector:\n",
      "[ 1  3 -5]\n",
      "\n",
      "Entered Covariance matrix:\n",
      "[[ 2 -1  0]\n",
      " [-1  2 -1]\n",
      " [ 0 -1  2]]\n",
      "\n",
      "Samples:\n",
      "[[ 1.17127078  2.33267287 -4.66581443]\n",
      " [ 0.02859858  4.39143558 -5.06485737]\n",
      " [ 2.69255431  2.70787126 -4.53182122]\n",
      " ...\n",
      " [ 0.99227373  3.3472687  -4.48434472]\n",
      " [ 1.21771357  1.59680927 -3.72639487]\n",
      " [ 1.33471066  2.33941866 -2.89447428]]\n",
      "\n",
      "Mean Vector:\n",
      "[1.002842416345811, 2.985555097041004, -4.986957028962303]\n",
      "\n",
      "Covariance Matrix:\n",
      "[[ 1.95474691 -0.98686334 -0.00235431]\n",
      " [-0.98686334  2.02356124 -0.99387325]\n",
      " [-0.00235431 -0.99387325  2.01790736]]\n",
      "\n",
      "Calculated matrix SPD?: True\n"
     ]
    }
   ],
   "source": [
    "import statistics as st\n",
    "import numpy as np\n",
    "import scipy.linalg as la\n",
    "from datetime import datetime\n",
    "import sympy as sym\n",
    "\n",
    "cov = np.array([[2, -1, 0],\n",
    "                [-1, 2, -1],\n",
    "                [0, -1, 2]]);\n",
    "mu = np.array([1,3,-5]);\n",
    "\n",
    "def posSymDef(mat):\n",
    "    return np.all(np.linalg.eigvals(mat) > 0)\n",
    "\n",
    "def diagonal(matrix):\n",
    "    eigval,m1 = la.eig(matrix);    \n",
    "    m1 = np.array(m1).astype(float);\n",
    "    m1_inv = np.linalg.inv(m1);\n",
    "    m2 = np.matmul(m1_inv,matrix);\n",
    "    m2 = np.matmul(m2,m1);\n",
    "    return m2,m1;\n",
    "\n",
    "def func(mu,cov,s):\n",
    "    m2,m1 = diagonal(cov);\n",
    "    m1 = np.array(m1).astype(float);\n",
    "    m2 = np.array(m2).astype(float);\n",
    "    m1_inv = np.linalg.inv(m1);\n",
    "    for i in range(len(m2)):\n",
    "        m2[i][i] = np.sqrt(m2[i][i]);\n",
    "    M = np.matmul(m1,m2);\n",
    "    M = np.matmul(M,m1_inv);\n",
    "    ans = np.matmul(np.random.randn(s, len(m2)),M);\n",
    "    for i in range(s):\n",
    "        ans[i] = ans[i] + mu;\n",
    "    print('\\nSamples:');\n",
    "    print(ans);\n",
    "    print('\\nMean Vector:');\n",
    "    mu = [];\n",
    "    ans = np.transpose(ans);\n",
    "    for i in range(len(m2)): \n",
    "        mu.append(np.mean(ans[i]));\n",
    "    print(mu);\n",
    "    print('\\nCovariance Matrix:');\n",
    "    print(np.cov(ans));\n",
    "    print('\\nCalculated matrix SPD?: '+str(posSymDef(cov)));\n",
    "\n",
    "print('\\nEntered Mean vector:');\n",
    "print(mu);\n",
    "print('\\nEntered Covariance matrix:');\n",
    "print(cov);\n",
    "\n",
    "func(mu,cov,10000);"
   ]
  },
  {
   "cell_type": "code",
   "execution_count": null,
   "metadata": {},
   "outputs": [],
   "source": []
  }
 ],
 "metadata": {
  "kernelspec": {
   "display_name": "Python 3",
   "language": "python",
   "name": "python3"
  },
  "language_info": {
   "codemirror_mode": {
    "name": "ipython",
    "version": 3
   },
   "file_extension": ".py",
   "mimetype": "text/x-python",
   "name": "python",
   "nbconvert_exporter": "python",
   "pygments_lexer": "ipython3",
   "version": "3.8.5"
  }
 },
 "nbformat": 4,
 "nbformat_minor": 4
}
