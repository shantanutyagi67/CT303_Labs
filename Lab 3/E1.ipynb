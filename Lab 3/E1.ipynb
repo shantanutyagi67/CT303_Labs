{
 "cells": [
  {
   "cell_type": "markdown",
   "metadata": {},
   "source": [
    "## Question 1"
   ]
  },
  {
   "cell_type": "code",
   "execution_count": 1,
   "metadata": {},
   "outputs": [],
   "source": [
    "import matplotlib.pyplot as plt\n",
    "import math\n",
    "import statistics as st\n",
    "import numpy as np\n",
    "import scipy.linalg as la\n",
    "from datetime import datetime\n",
    "import sympy as sym"
   ]
  },
  {
   "cell_type": "code",
   "execution_count": 2,
   "metadata": {},
   "outputs": [],
   "source": [
    "def myawgn(PSD,B,Fs,l):\n",
    "    sigma = math.sqrt(2*PSD*B)\n",
    "    #sigma is the standard deviation\n",
    "    print(\"Power = \",2*PSD*B)\n",
    "    \n",
    "    N = 1000   \n",
    "    x = sigma*(np.random.randn(N,l))\n",
    "    awgn_sequence = x[0]\n",
    "    \n",
    "    y = abs(np.fft.fft(x))\n",
    "    y_conjugate = np.conjugate(y)\n",
    "    y_squared = np.multiply(y,y_conjugate)\n",
    "    y_mean = np.mean(y_squared,axis = 1)\n",
    "    y_mean = y_mean/(Fs*l);\n",
    "    calculated_psd = np.mean(y_mean);\n",
    "    \n",
    "    print(\"Calculated PSD = \",calculated_psd)\n",
    "    \n",
    "    #plotting\n",
    "    plt.figure()\n",
    "    plt.plot(y_mean, color = 'green', label='Mean using sample functions')\n",
    "    plt.axhline(y=calculated_psd, color='r', linestyle='-', label = 'Calculated PSD')\n",
    "    plt.axhline(y=PSD, color='blue', linestyle='dotted', label = 'Given PSD')\n",
    "    plt.legend()\n",
    "    plt.show\n",
    "    \n",
    "    return awgn_sequence"
   ]
  },
  {
   "cell_type": "code",
   "execution_count": 3,
   "metadata": {},
   "outputs": [
    {
     "name": "stdout",
     "output_type": "stream",
     "text": [
      "PSD: 500\n",
      "Bandwidth: 100\n",
      "Sampling frequency: 200\n",
      "Length of the sequence: 100\n",
      "Power =  100000.0\n",
      "Calculated PSD =  499.62865520038287\n",
      "AWGN sequence:  [ -63.1883158   -30.30034849 -487.90825773    2.88530468  453.34884672\n",
      "  157.45437847  358.54106572   65.05732307 -173.00605684  -66.21298834\n",
      "  162.00968037 -395.79322876  -40.65913935 -502.3528279  -475.10786342\n",
      "  275.72247005  -78.47524434   57.00977342 -353.63290708  841.32556083\n",
      "  123.76817864 -223.57959561   45.53465964  566.00146115 -254.06178308\n",
      "  -14.69507249   15.87616293  -47.04123643   -6.29181226 -305.87022882\n",
      "  -86.2503694  -308.49723826  276.18543042  380.10467814  266.81765095\n",
      "  -41.40624006  -58.06389959  183.87169631  244.5020607   239.46837821\n",
      " -130.52643272 -108.51309366  497.02920536   77.22744297  -93.85479116\n",
      "  -54.03936399   -3.84286435 -142.46691993 -635.02462288 -258.01506651\n",
      "  194.7955846   239.60421231  -37.26378136 -153.36999968 -132.86830177\n",
      " -110.1441766    74.67802492 -272.5215257   192.93036199  297.81312062\n",
      "  538.52861162   -4.45209421  -62.3227044  -528.52059301  294.31659376\n",
      "  422.9844318  -267.45012346  596.64734174  334.63320266 -473.1348276\n",
      "   17.99914544  160.1294589  -260.11686759  133.95857233 -381.93699842\n",
      " -594.15908006   -6.28818251  268.34279752  779.09037165  -29.44784326\n",
      " -208.14216212 -151.48346295 -665.38962253  135.70794783 -211.39560982\n",
      " -145.11439385 -276.51314757 -387.13988081 -421.51951371  229.70697092\n",
      "  140.2182507  -687.89021731  174.4144229    16.66588011  190.00828925\n",
      " -298.46633111  371.28987168  258.13210625  -41.72964804  582.88475308]\n"
     ]
    },
    {
     "data": {
      "image/png": "[encoded data removed]",
      "text/plain": [
       "<Figure size 432x288 with 1 Axes>"
      ]
     },
     "metadata": {
      "needs_background": "light"
     },
     "output_type": "display_data"
    }
   ],
   "source": [
    "PSD = float(input('PSD: '))\n",
    "B = float(input('Bandwidth: '))\n",
    "Fs = float(input('Sampling frequency: '))\n",
    "l = int(input('Length of the sequence: '))\n",
    "awgn = myawgn(PSD,B,Fs,l)\n",
    "print(\"AWGN sequence: \",awgn)"
   ]
  },
  {
   "cell_type": "markdown",
   "metadata": {},
   "source": [
    "## Question 2"
   ]
  },
  {
   "cell_type": "code",
   "execution_count": 98,
   "metadata": {},
   "outputs": [],
   "source": [
    "# library function to check PSD\n",
    "def posSymDef(mat):\n",
    "    return np.all(np.linalg.eigvals(mat) > 0)\n",
    "\n",
    "def mygauss(mu,cov,s):\n",
    "    \n",
    "    eigval,m1 = la.eig(cov);    \n",
    "    m1 = np.array(m1).astype(float);\n",
    "    m1_inv = np.linalg.inv(m1);\n",
    "    m2 = np.matmul(m1_inv,cov);\n",
    "    m2 = np.matmul(m2,m1);\n",
    "    \n",
    "    for i in range(len(m2)):\n",
    "        m2[i][i] = np.sqrt(m2[i][i]);\n",
    "\n",
    "    M = np.matmul(m1,m2);\n",
    "    M = np.matmul(M,m1_inv);\n",
    "    ans = np.matmul(np.random.randn(s, len(m2)),M);\n",
    "    \n",
    "    for i in range(s):\n",
    "        ans[i] = ans[i] + mu;\n",
    "    print('\\nSamples:');\n",
    "    print(ans);\n",
    "    \n",
    "    print('\\nnCalculated Mean Vector:');\n",
    "    mu = [];\n",
    "    ans = np.transpose(ans);\n",
    "    for i in range(len(m2)): \n",
    "        mu.append(np.mean(ans[i]));\n",
    "    print(mu);\n",
    "    \n",
    "    print('\\nCalculated Covariance Matrix:');\n",
    "    print(np.cov(ans));\n",
    "    print('\\nCalculated matrix SPD?: '+str(posSymDef(cov)));"
   ]
  },
  {
   "cell_type": "code",
   "execution_count": 99,
   "metadata": {},
   "outputs": [
    {
     "name": "stdout",
     "output_type": "stream",
     "text": [
      "Entered Mean Vector:\n",
      "[ 1  3 -5]\n",
      "\n",
      "Entered Covariance Matrix:\n",
      "[[ 2 -1  0]\n",
      " [-1  2 -1]\n",
      " [ 0 -1  2]]\n",
      "\n",
      "Samples:\n",
      "[[ 2.27245347  3.74835475 -4.92158801]\n",
      " [ 1.32351737  3.1138373  -4.42843656]\n",
      " [-1.03306035  3.20168876 -4.58216342]\n",
      " ...\n",
      " [ 2.10660157  2.5021356  -4.0390566 ]\n",
      " [-0.89349965  2.99326262 -3.91112794]\n",
      " [ 4.27345841  1.58214423 -5.61441073]]\n",
      "\n",
      "nCalculated Mean Vector:\n",
      "[1.0276328076669954, 2.9972976825552564, -5.00488836153047]\n",
      "\n",
      "Calculated Covariance Matrix:\n",
      "[[ 1.96346091 -0.9804628   0.02611028]\n",
      " [-0.9804628   2.03602456 -1.0387728 ]\n",
      " [ 0.02611028 -1.0387728   2.01094941]]\n",
      "\n",
      "Calculated matrix SPD?: True\n"
     ]
    }
   ],
   "source": [
    "cov = np.array([[2, -1, 0],\n",
    "                [-1, 2, -1],\n",
    "                [0, -1, 2]]);\n",
    "mu = np.array([1,3,-5]);\n",
    "\n",
    "print('Entered Mean Vector:');\n",
    "print(mu);\n",
    "print('\\nEntered Covariance Matrix:');\n",
    "print(cov);\n",
    "\n",
    "mygauss(mu,cov,10000);"
   ]
  },
  {
   "cell_type": "code",
   "execution_count": null,
   "metadata": {},
   "outputs": [],
   "source": []
  }
 ],
 "metadata": {
  "kernelspec": {
   "display_name": "Python 3",
   "language": "python",
   "name": "python3"
  },
  "language_info": {
   "codemirror_mode": {
    "name": "ipython",
    "version": 3
   },
   "file_extension": ".py",
   "mimetype": "text/x-python",
   "name": "python",
   "nbconvert_exporter": "python",
   "pygments_lexer": "ipython3",
   "version": "3.8.5"
  }
 },
 "nbformat": 4,
 "nbformat_minor": 4
}
