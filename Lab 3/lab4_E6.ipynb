{
 "cells": [
  {
   "cell_type": "code",
   "execution_count": 11,
   "metadata": {
    "scrolled": false
   },
   "outputs": [
    {
     "name": "stdout",
     "output_type": "stream",
     "text": [
      "Once deleted, variables cannot be recovered. Proceed (y/[n])? y\n",
      "PSD: 500\n",
      "Bandwidth: 100\n",
      "Sampling frequency: 200\n",
      "Length of the sequence: 100\n",
      "Power= 100000.0\n",
      "Calculated PSD:  (499.46187337040817+0j)\n",
      "Input PSD:  500.0\n",
      "AWGN of given length : [[ 474.27231299 -102.71144098  206.41602584  295.93475357  -57.56946914\n",
      "  -284.37413772  359.50578725 -272.78306683 -101.43607099  296.9103202\n",
      "  -190.92271819   52.47833878 -103.12685551 -222.17044327  388.01102698\n",
      "     1.19740671 -246.67713882 -189.16939656 -106.94196682 -134.6079725\n",
      "  -220.66571231  358.05894867 -201.08628117  436.3774626  -374.54598107\n",
      "  -103.15282192 -338.18352873    2.3579093   420.32282578 -940.5910305\n",
      "   265.60592952   63.93422892  -22.22302484 -121.92332985   41.25498552\n",
      "   107.88759257 -234.12690491 -142.98979893  196.95109315 -175.24288269\n",
      "    66.2073544  -187.37794799  354.42967998  861.37142892  -90.41796561\n",
      "    43.6056075  -318.63217803   37.04632745   10.45486499  335.95407938\n",
      "   312.55754703 -248.53108804  296.4153649  -334.04897681  656.37479674\n",
      "  -440.15985475   -5.63676125 -226.03155595   80.21121461 -282.87559575\n",
      "    55.99254664  -34.84165948  385.74255298 -333.71869889  -99.14193974\n",
      "  -397.13787123 -197.62485513  102.15967853  280.59760507 -300.44316321\n",
      "   402.41510679 -354.96293988  186.40253174  191.82944283  433.26794742\n",
      "   140.13816165  157.31589768  547.95102149 -126.13833766  -10.5664286\n",
      "  -301.15326611 -317.92632159  114.67656555   77.75297124 -552.67971598\n",
      "  -660.93567456  -61.4344154  -174.98515784 -399.40585401  104.19714798\n",
      "  -367.29104917  132.9556295   313.33227563 -188.24690689  100.90194593\n",
      "  -412.2756866  -203.59917936  137.97365271  680.50127529  334.52173335]]\n"
     ]
    },
    {
     "data": {
      "image/png": "[encoded data removed]",
      "text/plain": [
       "<Figure size 432x288 with 1 Axes>"
      ]
     },
     "metadata": {
      "needs_background": "light"
     },
     "output_type": "display_data"
    }
   ],
   "source": [
    "%reset\n",
    "import numpy as np\n",
    "import pandas as pd\n",
    "from matplotlib import pyplot as plt\n",
    "%matplotlib inline\n",
    "\n",
    "def myawgn(psd,bandwidth,fs,l):\n",
    "    exp_x_sq=psd*2*bandwidth;\n",
    "    print('Power=',exp_x_sq)\n",
    "    std_dev=np.sqrt(exp_x_sq);\n",
    "    arr=[];\n",
    "    arr=np.random.randn(1,l)*std_dev;\n",
    "    \n",
    "    \n",
    "    #Verifying PSD\n",
    "    N=1000 #Number of sample functions\n",
    "        \n",
    "    #Producing N sample functions with the same length, mean, variance to verify PSD\n",
    "    ans=np.random.randn(N,l)*std_dev;\n",
    "\n",
    "    # Fourier transform of each sample function\n",
    "    ans_fourier=[0 for i in range(N)]   \n",
    "    for n1 in range(N):\n",
    "        ans_fourier[n1]=np.fft.fft(ans[n1]);\n",
    "\n",
    "    #Taking Complex conjugate and multiplying with original and taking mean to give E[|X_t(w)|^2]\n",
    "    ans_mean=[0 for i in range(N)]\n",
    "    for n1 in range(N):\n",
    "        ans_mean[n1]=np.mean(ans_fourier[n1]*np.conj(ans_fourier[n1]))/(l*fs);\n",
    "        \n",
    "    #Plotting the values obtained from each sample function and the final calculated PSD \n",
    "    x=range(N)\n",
    "    y_calc=[np.mean(ans_mean) for i in range(N)]\n",
    "    psd_input=[psd for i in range(N)]\n",
    "    print('Calculated PSD: ',np.mean(ans_mean))\n",
    "    print('Input PSD: ',psd)\n",
    "    plt.plot(ans_mean,label='Mean using sample functions')\n",
    "    plt.plot(x,y_calc,label='Calculated PSD')\n",
    "    plt.plot(x,psd_input,label='Input PSD')\n",
    "    plt.legend()\n",
    "    return arr;\n",
    "\n",
    "psd=float(input('PSD: '))\n",
    "bandwidth=float(input('Bandwidth: '))\n",
    "fs=float(input('Sampling frequency: '))\n",
    "l=int(input('Length of the sequence: '))\n",
    "awgn=myawgn(psd,bandwidth,fs,l)\n",
    "print('AWGN of given length :',awgn);\n",
    "\n",
    "\n",
    "        "
   ]
  },
  {
   "cell_type": "code",
   "execution_count": 25,
   "metadata": {},
   "outputs": [
    {
     "name": "stdout",
     "output_type": "stream",
     "text": [
      "Once deleted, variables cannot be recovered. Proceed (y/[n])? y\n",
      "[[-1.36 -0.99 -2.85 -7.44]\n",
      " [ 4.82  7.26  6.43  1.42]\n",
      " [ 3.69  5.58  7.79  4.98]\n",
      " ...\n",
      " [ 0.19  0.32  1.76 -2.35]\n",
      " [-1.06 -1.09  2.44 -0.72]\n",
      " [-3.26 -3.79 -0.78 -2.86]]\n",
      "\n",
      "Mean of samples generated, for Verification:\n",
      "\n",
      "[0.9933469633154027, 1.9925272643433698, 2.9855272170854525, -1.0161711130907343]\n",
      "\n",
      "Covariance of sample generated, for verification:\n",
      "\n",
      "[[4.96 6.96 5.88 4.89]\n",
      " [6.96 9.96 7.85 6.86]\n",
      " [5.88 7.85 9.75 8.77]\n",
      " [4.89 6.86 8.77 9.79]]\n"
     ]
    }
   ],
   "source": [
    "%reset\n",
    "from matplotlib import pyplot as plt\n",
    "import numpy as np\n",
    "import math\n",
    "import random  \n",
    "from datetime import datetime\n",
    "import statistics as st\n",
    "import sympy as sym\n",
    "import scipy.linalg as la\n",
    "np.set_printoptions(2);\n",
    "random.seed(datetime.now())\n",
    "\n",
    "def diag(mat):\n",
    "    eigva,P = la.eig(mat);    \n",
    "    P = np.array(P).astype(float);\n",
    "    P_inv = np.linalg.inv(P);\n",
    "    D = np.matmul(P_inv,mat);\n",
    "    D = np.matmul(D,P);\n",
    "    return D,P;\n",
    "\n",
    "def func(mean,cov,s):\n",
    "    D,P = diag(cov);\n",
    "    P = np.array(P).astype(float);\n",
    "    D = np.array(D).astype(float);\n",
    "    P_inv = np.linalg.inv(P);\n",
    "    \n",
    "    for i in range(0,len(D)):\n",
    "        D[i][i] = np.sqrt(D[i][i]);\n",
    "    \n",
    "    M = np.matmul(P,D);\n",
    "    M = np.matmul(M,P_inv);\n",
    "    \n",
    "    ans = np.matmul(np.random.randn(s, len(D)),M);\n",
    "    \n",
    "    for i in range(0,s):\n",
    "        ans[i] = ans[i] + mean;\n",
    "    print(ans);\n",
    "    \n",
    "    print('\\nMean of samples generated, for Verification:\\n');\n",
    "    mean = [];\n",
    "    ans = np.transpose(ans);\n",
    "    for i in range(0,len(D)):  #to verify Means\n",
    "        mean.append(np.mean(ans[i]));\n",
    "    print(mean);\n",
    "    print('\\nCovariance of sample generated, for verification:\\n');\n",
    "    print(np.cov(ans));       #To verify covariance\n",
    "    \n",
    "COV = np.array([[5 ,  7  , 6  , 5],\n",
    "                [7 ,  10 , 8  , 7],\n",
    "                [6 ,  8 , 10 , 9],\n",
    "                [5 ,  7  , 9 , 10]]);\n",
    "MEAN = np.array([1,2,3,-1]);\n",
    "func(MEAN,COV,10000);"
   ]
  },
  {
   "cell_type": "code",
   "execution_count": null,
   "metadata": {},
   "outputs": [],
   "source": []
  }
 ],
 "metadata": {
  "kernelspec": {
   "display_name": "Python 3",
   "language": "python",
   "name": "python3"
  },
  "language_info": {
   "codemirror_mode": {
    "name": "ipython",
    "version": 3
   },
   "file_extension": ".py",
   "mimetype": "text/x-python",
   "name": "python",
   "nbconvert_exporter": "python",
   "pygments_lexer": "ipython3",
   "version": "3.8.5"
  }
 },
 "nbformat": 4,
 "nbformat_minor": 2
}
