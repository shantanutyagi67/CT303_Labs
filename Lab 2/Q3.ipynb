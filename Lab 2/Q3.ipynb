{
 "cells": [
  {
   "cell_type": "code",
   "execution_count": 1,
   "metadata": {},
   "outputs": [],
   "source": [
    "import numpy as np\n",
    "import matplotlib.pyplot as plt"
   ]
  },
  {
   "cell_type": "code",
   "execution_count": 2,
   "metadata": {},
   "outputs": [],
   "source": [
    "def f1(N):\n",
    "    sz = int(10);\n",
    "    theta = np.zeros((sz,N))\n",
    "    n = np.zeros((sz,N))\n",
    "    lis = np.random.uniform(-np.pi,np.pi,N)\n",
    "    for i in range(sz):\n",
    "        n[i] = i\n",
    "        theta[i] = lis\n",
    "    y = np.cos(0.2*np.pi*n + theta)\n",
    "    mean_y = np.mean(y,axis = 1);\n",
    "    plt.stem(mean_y)\n",
    "    plt.axhline(y=np.mean(mean_y), color='r', linestyle='-')\n",
    "    plt.show()\n",
    "    autocorrelation = np.zeros((sz,sz))\n",
    "    for i in range(sz):\n",
    "        for j in range(sz):\n",
    "            autocorrelation[i][j] = np.correlate(y[i],y[j])\n",
    "    \n",
    "    transpose_mat = np.transpose(autocorrelation)    \n",
    "    eigen_mat1 = np.linalg.eigvalsh(autocorrelation)\n",
    "    \n",
    "    if np.all(eigen_mat1 > -(1e-7)) and np.all(np.abs(autocorrelation - transpose_mat) < 1e-7):\n",
    "        print(\"autocorrelation matrix is positive semi-definite\\n\")\n",
    "    else:\n",
    "        print(\"autocorrelation matrix is not positive semi-definite\\n\")\n",
    "    \n",
    "    y_minus_m = y\n",
    "    for i in range(sz):\n",
    "        y_minus_m[i] = y_minus_m[i] - mean_y[i]\n",
    "        \n",
    "    autocovariance = np.zeros((sz,sz))\n",
    "    for i in range(sz):\n",
    "        for j in range(sz):\n",
    "            autocovariance[i][j] = np.correlate(y_minus_m[i],y_minus_m[j])\n",
    "    \n",
    "    transpose_mat = np.transpose(autocovariance)\n",
    "    eigen_mat = np.linalg.eigvalsh(autocovariance)\n",
    "    \n",
    "    if np.all(eigen_mat1 > -(1e-7)) and np.all(np.abs(autocovariance - transpose_mat) < 1e-7):\n",
    "        print(\"autocovariance matrix is positive semi-definite\\n\")\n",
    "    else:\n",
    "        print(\"autocovariance matrix is not positive semi-definite\\n\")\n",
    "    "
   ]
  },
  {
   "cell_type": "code",
   "execution_count": 3,
   "metadata": {},
   "outputs": [
    {
     "data": {
      "image/png": "[encoded data removed]",
      "text/plain": [
       "<Figure size 432x288 with 1 Axes>"
      ]
     },
     "metadata": {
      "needs_background": "light"
     },
     "output_type": "display_data"
    },
    {
     "name": "stdout",
     "output_type": "stream",
     "text": [
      "autocorrelation matrix is positive semi-definite\n",
      "\n",
      "autocovariance matrix is positive semi-definite\n",
      "\n"
     ]
    }
   ],
   "source": [
    "f1(10000)"
   ]
  },
  {
   "cell_type": "code",
   "execution_count": 4,
   "metadata": {},
   "outputs": [],
   "source": [
    "def f2(N):\n",
    "    sz = int(8);\n",
    "    A = np.zeros((sz,N))\n",
    "    n = np.zeros((sz,N))\n",
    "    lis = np.random.uniform(-5,5,N)\n",
    "    for i in range(sz):\n",
    "        n[i] = i\n",
    "        A[i] = lis\n",
    "    y = A* np.cos(0.25*np.pi*n)\n",
    "    mean_y = np.mean(y,axis = 1);\n",
    "    plt.stem(mean_y)\n",
    "    plt.axhline(y=np.mean(mean_y), color='r', linestyle='-')\n",
    "    plt.show()\n",
    "    \n",
    "    x1 = np.correlate(y[3], y[1])\n",
    "    x2 = np.correlate(y[4], y[2])\n",
    "    x3 = np.correlate(y[5], y[3])\n",
    "    x4 = np.correlate(y[6], y[4])\n",
    "    x5 = np.correlate(y[7], y[5])\n",
    "    print(x1)\n",
    "    print(x2)\n",
    "    print(x3)\n",
    "    print(x4)\n",
    "    print(x5)\n",
    "    \n",
    "    autocorrelation = np.zeros((sz,sz))\n",
    "    for i in range(sz):\n",
    "        for j in range(sz):\n",
    "            autocorrelation[i][j] = np.correlate(y[i],y[j])\n",
    "    \n",
    "    transpose_mat = np.transpose(autocorrelation)    \n",
    "    eigen_mat1 = np.linalg.eigvalsh(autocorrelation)\n",
    "    \n",
    "    if np.all(eigen_mat1 > -(1e-7)) and np.all(np.abs(autocorrelation - transpose_mat) < 1e-7):\n",
    "        print(\"autocorrelation matrix is positive semi-definite\\n\")\n",
    "    else:\n",
    "        print(\"autocorrelation matrix is not positive semi-definite\\n\")\n",
    "    \n",
    "    y_minus_m = y\n",
    "    for i in range(sz):\n",
    "        y_minus_m[i] = y_minus_m[i] - mean_y[i]\n",
    "        \n",
    "    autocovariance = np.zeros((sz,sz))\n",
    "    for i in range(sz):\n",
    "        for j in range(sz):\n",
    "            autocovariance[i][j] = np.correlate(y_minus_m[i],y_minus_m[j])\n",
    "    \n",
    "    transpose_mat = np.transpose(autocovariance)\n",
    "    eigen_mat = np.linalg.eigvalsh(autocovariance)\n",
    "    \n",
    "    if np.all(eigen_mat1 > -(1e-7)) and np.all(np.abs(autocovariance - transpose_mat) < 1e-7):\n",
    "        print(\"autocovariance matrix is positive semi-definite\\n\")\n",
    "    else:\n",
    "        print(\"autocovariance matrix is not positive semi-definite\\n\")"
   ]
  },
  {
   "cell_type": "code",
   "execution_count": 5,
   "metadata": {},
   "outputs": [
    {
     "data": {
      "image/png": "[encoded data removed]",
      "text/plain": [
       "<Figure size 432x288 with 1 Axes>"
      ]
     },
     "metadata": {
      "needs_background": "light"
     },
     "output_type": "display_data"
    },
    {
     "name": "stdout",
     "output_type": "stream",
     "text": [
      "[-41005.65237243]\n",
      "[-5.02174409e-12]\n",
      "[41005.65237243]\n",
      "[1.50652323e-11]\n",
      "[-41005.65237243]\n",
      "autocorrelation matrix is positive semi-definite\n",
      "\n",
      "autocovariance matrix is positive semi-definite\n",
      "\n"
     ]
    }
   ],
   "source": [
    "f2(10000)"
   ]
  },
  {
   "cell_type": "code",
   "execution_count": null,
   "metadata": {},
   "outputs": [],
   "source": []
  }
 ],
 "metadata": {
  "kernelspec": {
   "display_name": "Python 3",
   "language": "python",
   "name": "python3"
  },
  "language_info": {
   "codemirror_mode": {
    "name": "ipython",
    "version": 3
   },
   "file_extension": ".py",
   "mimetype": "text/x-python",
   "name": "python",
   "nbconvert_exporter": "python",
   "pygments_lexer": "ipython3",
   "version": "3.8.5"
  }
 },
 "nbformat": 4,
 "nbformat_minor": 4
}
